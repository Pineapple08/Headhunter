{
 "cells": [
  {
   "cell_type": "code",
   "execution_count": 1,
   "metadata": {},
   "outputs": [],
   "source": [
    "#import libraries\n",
    "import requests\n",
    "from bs4 import BeautifulSoup\n",
    "import json\n",
    "import numpy as np\n",
    "import pandas as pd\n",
    "import re \n",
    "import openpyxl\n",
    "import time\n",
    "#from requests.exceptions import HTTPError"
   ]
  },
  {
   "cell_type": "code",
   "execution_count": 2,
   "metadata": {},
   "outputs": [],
   "source": [
    "def replace_nan(ar):\n",
    "    for i in range(len(ar)):\n",
    "        if ar[i]==None:\n",
    "            ar[i]=0\n",
    "    return ar\n",
    "\n",
    "def del_substr(x):\n",
    "    for u in range(len(x)):\n",
    "        r=re.sub('<highlighttext>','',str(x[u]))\n",
    "        x[u]=re.sub('</highlighttext>','',r)\n",
    "    return x"
   ]
  },
  {
   "cell_type": "code",
   "execution_count": 3,
   "metadata": {},
   "outputs": [],
   "source": [
    "#request parameters\n",
    "s=requests.Session()\n",
    "url = 'https://api.hh.ru/vacancies'\n",
    "params={'text':('data scientist')}"
   ]
  },
  {
   "cell_type": "code",
   "execution_count": 4,
   "metadata": {},
   "outputs": [],
   "source": [
    "#get list of all previous vacancies\n",
    "url_list=list()\n",
    "try:\n",
    "    file=pd.read_excel('data scientist vacancies.xlsx')\n",
    "    url_list=list(file['URL'])\n",
    "except (FileNotFoundError, OSError):\n",
    "    print('File has not been found')"
   ]
  },
  {
   "cell_type": "code",
   "execution_count": 5,
   "metadata": {},
   "outputs": [],
   "source": [
    "try:\n",
    "    wb = openpyxl.load_workbook('data scientist vacancies.xlsx',data_only=True)\n",
    "    sheet = wb.active\n",
    "except (FileNotFoundError, OSError):\n",
    "    print('File has not been found')"
   ]
  },
  {
   "cell_type": "code",
   "execution_count": 7,
   "metadata": {},
   "outputs": [],
   "source": [
    "try:\n",
    "    while True:\n",
    "        #get response\n",
    "        page=s.get(url, params=params,stream=True)\n",
    "        if page.status_code == 200:\n",
    "            result=page.json()['items']\n",
    "\n",
    "            #get salary, anme and URL\n",
    "            salary=[s.get('salary') for s in result]\n",
    "            for i in range(len(salary)):\n",
    "                if salary[i]!=None:\n",
    "                    salary[i]=salary[i].get('from')\n",
    "            salary=replace_nan(salary)\n",
    "            URL=[u.get('url') for u in result]\n",
    "            vacancy_name=[n.get('name') for n in result]\n",
    "\n",
    "            #get responsibilities and requirements\n",
    "            respons=[s.get('snippet') for s in result]\n",
    "            requirement=[r.get('requirement') for r in respons]\n",
    "            responsibility=[q.get('responsibility') for q in respons]\n",
    "            responsibility=replace_nan(responsibility)\n",
    "            requirement=replace_nan(requirement)\n",
    "            requirement=del_substr(requirement)\n",
    "            responsibility=del_substr(responsibility)\n",
    "\n",
    "            #create dataframe\n",
    "            data=pd.concat([pd.Series(URL),pd.Series(vacancy_name), pd.Series(salary), pd.Series(requirement), pd.Series(responsibility)],axis=1)\n",
    "            data.columns=['URL','Name','Salary','Requirements','Responsibilities']\n",
    "            data=data.reset_index(drop=True)\n",
    "\n",
    "            #append to excel file, given vacancies have not been added yet\n",
    "            for i in range(len(data.iloc[:,0])):\n",
    "                if data.iloc[i,0] not in url_list: \n",
    "                    sheet.append(list(data.iloc[i,:]))\n",
    "                    url_list.append(data.iloc[i,0])\n",
    "\n",
    "            time.sleep(30)\n",
    "        else:\n",
    "            print('Connection error has occured: {}'.format(page.status_code))\n",
    "except KeyboardInterrupt:\n",
    "    pass"
   ]
  },
  {
   "cell_type": "code",
   "execution_count": 8,
   "metadata": {},
   "outputs": [
    {
     "name": "stdout",
     "output_type": "stream",
     "text": [
      "Workbook saved\n"
     ]
    }
   ],
   "source": [
    "try:\n",
    "    wb.save('data scientist vacancies.xlsx')\n",
    "    print('Workbook saved')\n",
    "except PermissionError:\n",
    "    print ('Close the workbook and try again')"
   ]
  },
  {
   "cell_type": "code",
   "execution_count": null,
   "metadata": {},
   "outputs": [],
   "source": []
  }
 ],
 "metadata": {
  "kernelspec": {
   "display_name": "Python 3",
   "language": "python",
   "name": "python3"
  },
  "language_info": {
   "codemirror_mode": {
    "name": "ipython",
    "version": 3
   },
   "file_extension": ".py",
   "mimetype": "text/x-python",
   "name": "python",
   "nbconvert_exporter": "python",
   "pygments_lexer": "ipython3",
   "version": "3.7.3"
  }
 },
 "nbformat": 4,
 "nbformat_minor": 2
}
