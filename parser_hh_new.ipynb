{
 "cells": [
  {
   "cell_type": "code",
   "execution_count": 2,
   "metadata": {},
   "outputs": [],
   "source": [
    "#import libraries\n",
    "import requests\n",
    "from bs4 import BeautifulSoup\n",
    "import json\n",
    "import numpy as np\n",
    "import pandas as pd\n",
    "import re \n",
    "import openpyxl\n",
    "import time\n",
    "#from requests.exceptions import HTTPError"
   ]
  },
  {
   "cell_type": "code",
   "execution_count": 76,
   "metadata": {},
   "outputs": [],
   "source": [
    "def replace_nan(ar):\n",
    "    for i in range(len(ar)):\n",
    "        if ar[i]==None:\n",
    "            ar[i]=0\n",
    "    return ar\n",
    "\n",
    "def del_substr(x):\n",
    "    clean=list()\n",
    "    for u in range(len(x)):\n",
    "        string=re.sub('/>\\n[0-9]','',x[u]['description'])\n",
    "        string=re.sub('\\r<br','',string)\n",
    "        string=re.sub('&quot;','',string)\n",
    "        clean.append(re.sub('/>\\n','',string))\n",
    "    return clean"
   ]
  },
  {
   "cell_type": "code",
   "execution_count": 63,
   "metadata": {},
   "outputs": [],
   "source": [
    "#request parameters\n",
    "s=requests.Session()\n",
    "url = 'https://api.hh.ru/vacancies'\n",
    "params={'text':('\"data scientist\" OR \"аналитик данных\"')} #precise search"
   ]
  },
  {
   "cell_type": "code",
   "execution_count": 64,
   "metadata": {},
   "outputs": [],
   "source": [
    "#downlod all urls from all pages\n",
    "request_=s.get(url, params=params,stream=True).json()\n",
    "n_pages=request_['pages']\n",
    "n_vac=request_['per_page']\n",
    "download_urls=list()\n",
    "for i in range(n_pages+1):\n",
    "    params={'text':('\"data scientist\" OR \"аналитик данных\"'),'page':i}\n",
    "    pages=s.get(url, params=params,stream=True).json()\n",
    "    download_urls.extend([u['alternate_url'] for u in pages['items']])\n",
    "\n",
    "download_urls=[download_urls[j][-8:] for j in range(len(download_urls))] #getll vacancy IDs"
   ]
  },
  {
   "cell_type": "code",
   "execution_count": 65,
   "metadata": {},
   "outputs": [],
   "source": [
    "vac=list()\n",
    "link='https://api.hh.ru/vacancies/{}'\n",
    "try:\n",
    "    for url in range(len(download_urls)):\n",
    "        vacancy_desc=s.get(link.format(url)).json()\n",
    "        if vacancy_desc['description']!='Not Found':\n",
    "            vac.append(vacancy_desc)\n",
    "except KeyboardInterrupt:\n",
    "    pass"
   ]
  },
  {
   "cell_type": "code",
   "execution_count": 107,
   "metadata": {},
   "outputs": [
    {
     "data": {
      "text/plain": [
       "['from None to 2000, currency USD',\n",
       " 'from None to 200, currency USD',\n",
       " 'from None to 2500, currency USD',\n",
       " 'from None to 500, currency USD',\n",
       " 'from None to 800, currency USD',\n",
       " 'from None to 400, currency USD',\n",
       " 'from None to 1200, currency USD',\n",
       " 'from None to 1500, currency USD',\n",
       " 'from None to 800, currency USD',\n",
       " 'from None to 1200, currency USD',\n",
       " 'from None to 1500, currency USD',\n",
       " 'from None to 3500, currency USD',\n",
       " 'from None to 400, currency USD',\n",
       " 'from None to 500, currency USD',\n",
       " 'from None to 3000, currency USD',\n",
       " 'from None to 2000, currency USD',\n",
       " 'from None to 3000, currency USD',\n",
       " 'from None to 500, currency USD',\n",
       " 'from None to 1111, currency USD',\n",
       " 'from None to 2000, currency USD']"
      ]
     },
     "execution_count": 107,
     "metadata": {},
     "output_type": "execute_result"
    }
   ],
   "source": [
    "#re.sub('/>\\n[0-9]','',vac[9])\n",
    "salary=list()\n",
    "for i in range(len(vac)):\n",
    "    if vac[i]['salary']!=None:\n",
    "        salary.append('from {} to {}, currency {}'.format(vac[i]['salary']['from'],vac[i]['salary']['to'],vac[i]['salary']['currency']))\n",
    "salary"
   ]
  },
  {
   "cell_type": "code",
   "execution_count": 113,
   "metadata": {},
   "outputs": [
    {
     "data": {
      "text/plain": [
       "['EVENT MANAGER',\n",
       " 'Курьер',\n",
       " 'Менеджер отдела развития и маркетинга',\n",
       " 'МЕНЕДЖЕР ПО КАНАЛЬНОМУ МАРКЕТИНГУ',\n",
       " 'Экономист (бухгалтер) отдела обучения SAP',\n",
       " 'Юрист пресс-службы',\n",
       " 'Экономист (бухгалтер) отдела обучения SAP',\n",
       " 'Медиа-менеджер',\n",
       " 'Бухгалтер по экспорту. Код вакансии: \"Н-СБЭ\"',\n",
       " 'Менеджер по рекламе',\n",
       " 'Секретарь',\n",
       " 'Финансовый менеджер',\n",
       " 'Руководитель проекта. Код вакансии: \"Ш-1С-проект\"',\n",
       " 'Заместитель начальника юридического департамента. Код вакансии: \"Ш-ЮН\"',\n",
       " 'Водитель с личным автомобилем (газель)',\n",
       " 'Водитель-экспедитор со своим автомобилем (\"Газель\" с цельнометаллическим кузовом, или \"Бычок\")',\n",
       " 'Менеджер по рекламе и маркетингу. Код вакансии: \"В-мтр\"',\n",
       " 'Менеджер отдела развития и маркетинга',\n",
       " 'Старший юрист',\n",
       " 'Менеджер складского хозяйства',\n",
       " 'Менеджер по продажам продукции Dell системным интеграторам в крупную IT компанию.',\n",
       " 'Process Manager',\n",
       " 'Технический консультант.',\n",
       " 'Analyst (Capital Markets)',\n",
       " 'Персональный водитель',\n",
       " 'Специалист отдела маркетинга, аналитик',\n",
       " 'Начальник отдела методологии МСФО  в банк',\n",
       " 'Помощник руководителя. Код вакансии: \"ВЕ-ТС-2\"',\n",
       " 'Комерческий директор',\n",
       " 'Директор по персоналу. Код вакансии: \"Ш-директ\"',\n",
       " 'Офис-менеджер',\n",
       " 'Ведущий менеджер  в планово-производственный отдел',\n",
       " 'Аналитик по облигациям. Код вакансии: \"Л-ОБ\"',\n",
       " 'Директор по персоналу Региональной дирекции \"Украина\"']"
      ]
     },
     "execution_count": 113,
     "metadata": {},
     "output_type": "execute_result"
    }
   ],
   "source": [
    "vac_name=[vac[n]['name'] for n in range(len(vac))]\n",
    "vac_name"
   ]
  },
  {
   "cell_type": "code",
   "execution_count": null,
   "metadata": {},
   "outputs": [],
   "source": []
  },
  {
   "cell_type": "code",
   "execution_count": 121,
   "metadata": {},
   "outputs": [],
   "source": [
    "#get list of all previous vacancies\n",
    "url_list=list()\n",
    "try:\n",
    "    file=pd.read_excel('data scientist vacancies.xlsx')\n",
    "    url_list=list(file['URL'])\n",
    "except (FileNotFoundError, OSError):\n",
    "    print('File has not been found')"
   ]
  },
  {
   "cell_type": "code",
   "execution_count": 122,
   "metadata": {},
   "outputs": [],
   "source": [
    "try:\n",
    "    wb = openpyxl.load_workbook('data scientist vacancies.xlsx',data_only=True)\n",
    "    sheet = wb.active\n",
    "except (FileNotFoundError, OSError):\n",
    "    print('File has not been found')"
   ]
  },
  {
   "cell_type": "code",
   "execution_count": 126,
   "metadata": {},
   "outputs": [],
   "source": [
    "try:\n",
    "    while True:\n",
    "        #get response\n",
    "        url = 'https://api.hh.ru/vacancies'\n",
    "        params={'text':('\"data scientist\" OR \"аналитик данных\"'),'page':1}\n",
    "        pages=s.get(url, params=params,stream=True).json()\n",
    "        download_urls.extend([u['alternate_url'] for u in pages['items']])\n",
    "        download_urls=[download_urls[j][-8:] for j in range(len(download_urls))]\n",
    "        \n",
    "        vac=list()\n",
    "        link='https://api.hh.ru/vacancies/{}'\n",
    "        for url in range(len(download_urls)):\n",
    "            vacancy_desc=s.get(link.format(url)).json()\n",
    "            if vacancy_desc['description']!='Not Found':\n",
    "                vac.append(vacancy_desc)\n",
    "        #get responsibilities\n",
    "        responsib=del_substr(vac)\n",
    "        #get salary\n",
    "        salary=list()\n",
    "        for i in range(len(vac)):\n",
    "            if vac[i]['salary']!=None:\n",
    "                salary.append('from {} to {}, currency {}'.format(vac[i]['salary']['from'],vac[i]['salary']['to'],vac[i]['salary']['currency']))\n",
    "        #get name and URL\n",
    "            \n",
    "        vac_name=[vac[n]['name'] for n in range(len(vac))]\n",
    "        urls=[vac[n]['alternate_url'] for n in range(len(vac))]\n",
    "            \n",
    "        #create dataframe\n",
    "        data=pd.concat([pd.Series(urls),pd.Series(vac_name), pd.Series(salary), pd.Series(responsib)],axis=1)\n",
    "        data.columns=['URL','Name','Salary','Responsibilities']\n",
    "        data=data.reset_index(drop=True)\n",
    "\n",
    "        #append to excel file, given vacancies have not been added yet\n",
    "        for i in range(len(data.iloc[:,0])):\n",
    "            if data.iloc[i,0] not in url_list: \n",
    "                sheet.append(list(data.iloc[i,:]))\n",
    "                url_list.append(data.iloc[i,0])\n",
    "\n",
    "        time.sleep(30)\n",
    "       # else:\n",
    "        #    print('Connection error has occured: {}'.format(page.status_code))\n",
    "except KeyboardInterrupt:\n",
    "    pass"
   ]
  },
  {
   "cell_type": "code",
   "execution_count": 127,
   "metadata": {},
   "outputs": [
    {
     "name": "stdout",
     "output_type": "stream",
     "text": [
      "Workbook saved\n"
     ]
    }
   ],
   "source": [
    "try:\n",
    "    wb.save('data scientist vacancies.xlsx')\n",
    "    print('Workbook saved')\n",
    "except PermissionError:\n",
    "    print ('Close the workbook and try again')"
   ]
  },
  {
   "cell_type": "code",
   "execution_count": null,
   "metadata": {},
   "outputs": [],
   "source": []
  }
 ],
 "metadata": {
  "kernelspec": {
   "display_name": "Python 3",
   "language": "python",
   "name": "python3"
  },
  "language_info": {
   "codemirror_mode": {
    "name": "ipython",
    "version": 3
   },
   "file_extension": ".py",
   "mimetype": "text/x-python",
   "name": "python",
   "nbconvert_exporter": "python",
   "pygments_lexer": "ipython3",
   "version": "3.7.3"
  }
 },
 "nbformat": 4,
 "nbformat_minor": 2
}
