{
 "cells": [
  {
   "cell_type": "code",
   "execution_count": 1,
   "metadata": {},
   "outputs": [],
   "source": [
    "#import libraries\n",
    "import requests\n",
    "from bs4 import BeautifulSoup\n",
    "import json\n",
    "import numpy as np\n",
    "import pandas as pd\n",
    "import re \n",
    "import openpyxl\n",
    "import time\n",
    "from urllib.request import urlopen\n",
    "from os import listdir\n",
    "import seaborn as sns\n",
    "from datetime import datetime, timedelta\n",
    "import matplotlib.pyplot as plt\n",
    "import seaborn as sns\n",
    "import langid\n",
    "import investpy\n",
    "import warnings\n",
    "import time\n",
    "warnings.filterwarnings(\"ignore\")"
   ]
  },
  {
   "cell_type": "markdown",
   "metadata": {},
   "source": [
    "[Data extraction](#Data-Extraction)  \n",
    "[Exploratory Data Analysis](#Exploratory-Data-Analysis)\n"
   ]
  },
  {
   "cell_type": "markdown",
   "metadata": {},
   "source": [
    "### Data Extraction"
   ]
  },
  {
   "cell_type": "code",
   "execution_count": 2,
   "metadata": {},
   "outputs": [
    {
     "data": {
      "text/plain": [
       "4"
      ]
     },
     "execution_count": 2,
     "metadata": {},
     "output_type": "execute_result"
    }
   ],
   "source": [
    "#get number of pages\n",
    "s=requests.Session()\n",
    "url = 'https://api.hh.ru/vacancies'\n",
    "params={'text':('data scientist'),'order_by':('publication_time'),'per_page':(100)}\n",
    "request_=s.get(url, params=params).json()\n",
    "n_pages=request_['pages']\n",
    "n_pages"
   ]
  },
  {
   "cell_type": "code",
   "execution_count": 3,
   "metadata": {},
   "outputs": [],
   "source": [
    "##get urls to full vacancy descriptions\n",
    "## if number of pages > 20, download for every day\n",
    "download_urls=list()\n",
    "if n_pages < 20:\n",
    "    for page in range(n_pages):\n",
    "        params_={'text':('data scientist'),'per_page':(100),'page':(page), 'order_by':('publication_time')}\n",
    "        pages_=s.get(url, params=params_).json()\n",
    "        download_urls.extend([alt_url['alternate_url'] for alt_url in pages_['items']])\n",
    "        time.sleep(2)\n",
    "else:\n",
    "    for n_day in range(0,40):# it is said in docs that period of 30 days is available only, but I found more valid days\n",
    "        date = (datetime.today()-timedelta(days=n_day)).strftime('%Y-%m-%d')#iterate through all days\n",
    "        param_={'text':('data scientist'),'date_to':(date),'date_from':(date),'order_by':('publication_time'),'per_page':(100)}\n",
    "        pages_=s.get(url, params=param_).json()\n",
    "        n_pages_=pages_['pages']# get number of pages per day\n",
    "        for p in range(n_pages_):\n",
    "            par={'text':('data scientist'),'page':(p),'date_to':(date),'date_from':(date),'order_by':('publication_time'),'per_page':(100)}\n",
    "            answer=s.get(url, params=par).json()\n",
    "            download_urls.extend([alt_url['alternate_url'] for alt_url in answer['items']])\n",
    "        time.sleep(2)\n",
    "download_urls=[download_urls[j][-8:] for j in range(len(download_urls))]"
   ]
  },
  {
   "cell_type": "code",
   "execution_count": 4,
   "metadata": {},
   "outputs": [],
   "source": [
    "#check that vacancy was not seen before (check for vacancy url in the folder where vacancies are saved in json)\n",
    "previous_vac=[jsfile[:-5] for jsfile in listdir('C:/Users/Dell/Desktop/Py_projects/headhunter_parser/vacancies/')]\n",
    "new_url_list=[]\n",
    "for val in download_urls:\n",
    "    if val not in previous_vac:\n",
    "        new_url_list.append(val)"
   ]
  },
  {
   "cell_type": "code",
   "execution_count": 5,
   "metadata": {},
   "outputs": [],
   "source": [
    "#get vacancy descriptions and save in json\n",
    "vac=list()\n",
    "link='https://api.hh.ru/vacancies/{}'\n",
    "try:\n",
    "    for url in new_url_list:\n",
    "        vacancy_desc=s.get(link.format(url)).json()\n",
    "        if vacancy_desc['description']!='Not Found':\n",
    "            with open('C:/Users/Dell/Desktop/Py_projects/headhunter_parser/vacancies/'+str(url)+'.json', 'w') as file:\n",
    "                json.dump(vacancy_desc, file)\n",
    "            vac.append(vacancy_desc)\n",
    "except KeyboardInterrupt:\n",
    "    pass"
   ]
  },
  {
   "cell_type": "code",
   "execution_count": 6,
   "metadata": {},
   "outputs": [],
   "source": [
    "#read all previous vacancies from folder\n",
    "vacancies=[]\n",
    "all_vac=listdir('C:/Users/Dell/Desktop/Py_projects/headhunter_parser/vacancies/')\n",
    "for f in all_vac:\n",
    "    with open('C:/Users/Dell/Desktop/Py_projects/headhunter_parser/vacancies/{}'.format(f)) as f_json:\n",
    "        one_file=json.load(f_json)\n",
    "        vacancies.append(one_file)"
   ]
  },
  {
   "cell_type": "code",
   "execution_count": 7,
   "metadata": {},
   "outputs": [],
   "source": [
    "#extract data\n",
    "employer=[]\n",
    "spec=[]\n",
    "prof_area=[]\n",
    "description=[]\n",
    "name=[]\n",
    "location=[]\n",
    "salary=[]\n",
    "exp=[]\n",
    "schedule=[]\n",
    "skills=[]\n",
    "for job in vacancies:\n",
    "    employer.append(job['employer']['name'])\n",
    "    spec.append(job['specializations'][0]['name'])\n",
    "    prof_area.append(job['specializations'][0]['profarea_name'])\n",
    "    description.append(job['description'])\n",
    "    name.append(job['name'])\n",
    "    location.append(job['area']['name'])\n",
    "    salary.append(job['salary'])\n",
    "    exp.append(job['experience']['name'])\n",
    "    schedule.append(job['schedule']['name'])\n",
    "    skills.append(job['key_skills'])"
   ]
  },
  {
   "cell_type": "code",
   "execution_count": 8,
   "metadata": {},
   "outputs": [],
   "source": [
    "#some vacancies are in foreign currency, so get current exchange rates to convert to RUB\n",
    "currency=[]\n",
    "fx=dict()\n",
    "for sal in salary:\n",
    "    if sal!=None:\n",
    "        currency.append(sal['currency'])\n",
    "available_cur=list(set(currency))\n",
    "today=datetime.today().strftime('%d/%m/%Y')\n",
    "yesterday=(datetime.today()-timedelta(days=2)).strftime('%d/%m/%Y')\n",
    "for cur in available_cur:\n",
    "    if cur not in (None,'RUR'):\n",
    "        cur_data=investpy.currency_crosses.get_currency_cross_historical_data(currency_cross='{}/RUB'.format(cur), from_date=yesterday, to_date=today,order='descending')\n",
    "        cur_data=pd.DataFrame(cur_data)\n",
    "        fx[cur]=cur_data.iloc[0,3].astype(float)\n",
    "fx['RUR']=1"
   ]
  },
  {
   "cell_type": "code",
   "execution_count": 9,
   "metadata": {},
   "outputs": [],
   "source": [
    "#clear skills and description, convert salary \n",
    "clear_desc=[]\n",
    "salary_clear=[]\n",
    "skills_clear=[]\n",
    "for desc in description:    \n",
    "    string=re.sub('<[a-z]>|<[a-z][a-z]>+|<strong>|&#[0-9][0-9]|\\u200b+','',desc)\n",
    "    string=re.sub('</[a-z]>|</[a-z][a-z]>|</strong>+','',string)\n",
    "    clear_desc.append(string)\n",
    "    \n",
    "for sal in salary:\n",
    "    if sal!=None:\n",
    "        chosen_cur=(sal['currency'])\n",
    "        try: \n",
    "            salary_clear.append(((sal['from']+sal['to'])/2)*fx[chosen_cur])\n",
    "        except TypeError:\n",
    "            if sal['from']!=None:\n",
    "                salary_clear.append(sal['from']*fx[chosen_cur])\n",
    "            else: \n",
    "                salary_clear.append(sal['to']*fx[chosen_cur])\n",
    "    else:\n",
    "        salary_clear.append(0)\n",
    "        \n",
    "for skill in skills:\n",
    "    if skill==[]:\n",
    "        skills_clear.append(None)\n",
    "    else:\n",
    "        skills_clear.append([sk['name'] for sk in skill])"
   ]
  },
  {
   "cell_type": "code",
   "execution_count": 10,
   "metadata": {},
   "outputs": [
    {
     "data": {
      "text/html": [
       "<div>\n",
       "<style scoped>\n",
       "    .dataframe tbody tr th:only-of-type {\n",
       "        vertical-align: middle;\n",
       "    }\n",
       "\n",
       "    .dataframe tbody tr th {\n",
       "        vertical-align: top;\n",
       "    }\n",
       "\n",
       "    .dataframe thead th {\n",
       "        text-align: right;\n",
       "    }\n",
       "</style>\n",
       "<table border=\"1\" class=\"dataframe\">\n",
       "  <thead>\n",
       "    <tr style=\"text-align: right;\">\n",
       "      <th></th>\n",
       "      <th>vacancy</th>\n",
       "      <th>company</th>\n",
       "      <th>specialization</th>\n",
       "      <th>prof_area</th>\n",
       "      <th>experience</th>\n",
       "      <th>salary</th>\n",
       "      <th>schedule</th>\n",
       "      <th>city</th>\n",
       "      <th>skills</th>\n",
       "      <th>description</th>\n",
       "    </tr>\n",
       "  </thead>\n",
       "  <tbody>\n",
       "    <tr>\n",
       "      <th>0</th>\n",
       "      <td>Data Engineer</td>\n",
       "      <td>ЦИАН ГРУПП</td>\n",
       "      <td>Программирование, Разработка</td>\n",
       "      <td>Информационные технологии, интернет, телеком</td>\n",
       "      <td>От 1 года до 3 лет</td>\n",
       "      <td>0</td>\n",
       "      <td>Полный день</td>\n",
       "      <td>Москва</td>\n",
       "      <td>[Hadoop, Kafka, Spark, Iron Python, OLAP-струк...</td>\n",
       "      <td>Циан - крупнейший в России сервис для поиска н...</td>\n",
       "    </tr>\n",
       "    <tr>\n",
       "      <th>1</th>\n",
       "      <td>Data Scientist</td>\n",
       "      <td>МФИ Софт</td>\n",
       "      <td>Информатика, Информационные системы</td>\n",
       "      <td>Наука, образование</td>\n",
       "      <td>От 3 до 6 лет</td>\n",
       "      <td>0</td>\n",
       "      <td>Гибкий график</td>\n",
       "      <td>Нижний Новгород</td>\n",
       "      <td>[SQL, Python]</td>\n",
       "      <td>МФИ Софт занимается передовыми разработками по...</td>\n",
       "    </tr>\n",
       "    <tr>\n",
       "      <th>2</th>\n",
       "      <td>Data Scientist</td>\n",
       "      <td>ANCOR FinTech</td>\n",
       "      <td>Программирование, Разработка</td>\n",
       "      <td>Информационные технологии, интернет, телеком</td>\n",
       "      <td>От 1 года до 3 лет</td>\n",
       "      <td>0</td>\n",
       "      <td>Полный день</td>\n",
       "      <td>Екатеринбург</td>\n",
       "      <td>None</td>\n",
       "      <td>Технологический стек: Oracle Exadata (SQL, PL/...</td>\n",
       "    </tr>\n",
       "    <tr>\n",
       "      <th>3</th>\n",
       "      <td>Главный аналитик-математик (Data Analyst / Dat...</td>\n",
       "      <td>Связной</td>\n",
       "      <td>Информатика, Информационные системы</td>\n",
       "      <td>Наука, образование</td>\n",
       "      <td>От 3 до 6 лет</td>\n",
       "      <td>0</td>\n",
       "      <td>Полный день</td>\n",
       "      <td>Москва</td>\n",
       "      <td>[Data Mining, Python, Управление проектами, Da...</td>\n",
       "      <td>Требования:  Высшее образование (приветствуютс...</td>\n",
       "    </tr>\n",
       "    <tr>\n",
       "      <th>4</th>\n",
       "      <td>Исследователь данных / Data Scientist / Аналитик</td>\n",
       "      <td>ДДОС ГВАРД</td>\n",
       "      <td>Передача данных и доступ в интернет</td>\n",
       "      <td>Информационные технологии, интернет, телеком</td>\n",
       "      <td>От 3 до 6 лет</td>\n",
       "      <td>0</td>\n",
       "      <td>Полный день</td>\n",
       "      <td>Ростов-на-Дону</td>\n",
       "      <td>[Python, C/C++, Data Analysis, Big Data]</td>\n",
       "      <td>Компания DDoS-GUARD - оператор связи, занимающ...</td>\n",
       "    </tr>\n",
       "  </tbody>\n",
       "</table>\n",
       "</div>"
      ],
      "text/plain": [
       "                                             vacancy        company  \\\n",
       "0                                      Data Engineer     ЦИАН ГРУПП   \n",
       "1                                     Data Scientist       МФИ Софт   \n",
       "2                                     Data Scientist  ANCOR FinTech   \n",
       "3  Главный аналитик-математик (Data Analyst / Dat...        Связной   \n",
       "4   Исследователь данных / Data Scientist / Аналитик     ДДОС ГВАРД   \n",
       "\n",
       "                        specialization  \\\n",
       "0         Программирование, Разработка   \n",
       "1  Информатика, Информационные системы   \n",
       "2         Программирование, Разработка   \n",
       "3  Информатика, Информационные системы   \n",
       "4  Передача данных и доступ в интернет   \n",
       "\n",
       "                                      prof_area          experience salary  \\\n",
       "0  Информационные технологии, интернет, телеком  От 1 года до 3 лет      0   \n",
       "1                            Наука, образование       От 3 до 6 лет      0   \n",
       "2  Информационные технологии, интернет, телеком  От 1 года до 3 лет      0   \n",
       "3                            Наука, образование       От 3 до 6 лет      0   \n",
       "4  Информационные технологии, интернет, телеком       От 3 до 6 лет      0   \n",
       "\n",
       "        schedule             city  \\\n",
       "0    Полный день           Москва   \n",
       "1  Гибкий график  Нижний Новгород   \n",
       "2    Полный день     Екатеринбург   \n",
       "3    Полный день           Москва   \n",
       "4    Полный день   Ростов-на-Дону   \n",
       "\n",
       "                                              skills  \\\n",
       "0  [Hadoop, Kafka, Spark, Iron Python, OLAP-струк...   \n",
       "1                                      [SQL, Python]   \n",
       "2                                               None   \n",
       "3  [Data Mining, Python, Управление проектами, Da...   \n",
       "4           [Python, C/C++, Data Analysis, Big Data]   \n",
       "\n",
       "                                         description  \n",
       "0  Циан - крупнейший в России сервис для поиска н...  \n",
       "1  МФИ Софт занимается передовыми разработками по...  \n",
       "2  Технологический стек: Oracle Exadata (SQL, PL/...  \n",
       "3  Требования:  Высшее образование (приветствуютс...  \n",
       "4  Компания DDoS-GUARD - оператор связи, занимающ...  "
      ]
     },
     "execution_count": 10,
     "metadata": {},
     "output_type": "execute_result"
    }
   ],
   "source": [
    "all_data=pd.DataFrame([name,employer,spec,prof_area,exp,salary_clear,schedule,location,skills_clear,clear_desc]).transpose()\n",
    "all_data.columns=['vacancy','company','specialization','prof_area','experience','salary','schedule','city','skills','description']\n",
    "all_data.head()"
   ]
  },
  {
   "cell_type": "code",
   "execution_count": 11,
   "metadata": {},
   "outputs": [
    {
     "name": "stdout",
     "output_type": "stream",
     "text": [
      "<class 'pandas.core.frame.DataFrame'>\n",
      "RangeIndex: 402 entries, 0 to 401\n",
      "Data columns (total 10 columns):\n",
      " #   Column          Non-Null Count  Dtype \n",
      "---  ------          --------------  ----- \n",
      " 0   vacancy         402 non-null    object\n",
      " 1   company         402 non-null    object\n",
      " 2   specialization  402 non-null    object\n",
      " 3   prof_area       402 non-null    object\n",
      " 4   experience      402 non-null    object\n",
      " 5   salary          402 non-null    object\n",
      " 6   schedule        402 non-null    object\n",
      " 7   city            402 non-null    object\n",
      " 8   skills          263 non-null    object\n",
      " 9   description     402 non-null    object\n",
      "dtypes: object(10)\n",
      "memory usage: 15.8+ KB\n"
     ]
    }
   ],
   "source": [
    "all_data.info()"
   ]
  },
  {
   "cell_type": "markdown",
   "metadata": {},
   "source": [
    "### Exploratory Data Analysis"
   ]
  },
  {
   "cell_type": "code",
   "execution_count": 12,
   "metadata": {},
   "outputs": [
    {
     "data": {
      "image/png": "[encoded data removed]",
      "text/plain": [
       "<Figure size 432x432 with 1 Axes>"
      ]
     },
     "metadata": {
      "needs_background": "light"
     },
     "output_type": "display_data"
    }
   ],
   "source": [
    "plt.figure(figsize=(6,6))\n",
    "sns.countplot(y='city',data=all_data[['city']],order = all_data['city'].value_counts().iloc[:10].index).set_title('Top 10 cities by number of vacancies ');"
   ]
  },
  {
   "cell_type": "code",
   "execution_count": 13,
   "metadata": {},
   "outputs": [
    {
     "data": {
      "image/png": "[encoded data removed]",
      "text/plain": [
       "<Figure size 360x360 with 1 Axes>"
      ]
     },
     "metadata": {
      "needs_background": "light"
     },
     "output_type": "display_data"
    }
   ],
   "source": [
    "# here I distinguish b/n technology (tools) and skills(in theoretical meaning)\n",
    "all_skills=[]\n",
    "technology=[]\n",
    "skill=[]\n",
    "for list_ in skills_clear: #get from all vacancies\n",
    "    if list_ != None:\n",
    "        for item_ in list_:\n",
    "            all_skills.append(item_.lower())\n",
    "for _item in range(len(all_skills)): #replace irems with same meaning by common word\n",
    "    if all_skills[_item] in ('data analysis', 'аналитические исследования','data science','analytical skills','аналитическое мышление'):\n",
    "        all_skills[_item]=\"анализ данных\"  \n",
    "    elif all_skills[_item] in ('mysql','postgresql', 'oracle pl/sql'):\n",
    "        all_skills[_item]='sql'\n",
    "    elif all_skills[_item]=='spark':\n",
    "        all_skills[_item]='apache spark'\n",
    "\n",
    "for skil in all_skills: #append to skill and technology lists\n",
    "    if skil in ('data analysis','machine learning','ml','nlp','deep learning'):\n",
    "        skill.append(skil)\n",
    "    elif skil=='c/c++':\n",
    "        technology.extend(['c','c++'])\n",
    "    elif skil in ('keras','pandas','linux'):\n",
    "        technology.append(skil)   \n",
    "    else:\n",
    "        if list(langid.classify(skil))[0]=='en':#assume that technologies are most often written in English\n",
    "            technology.append(skil)\n",
    "        else:\n",
    "            skill.append(skil)\n",
    "technology_df=pd.DataFrame(technology,columns=['tech'])\n",
    "plt.figure(figsize=(5,5))\n",
    "sns.countplot(y='tech',data=technology_df,order = technology_df['tech'].value_counts().iloc[:10].index).set_title('Top 10 technologies by number of references in vacancies ');"
   ]
  },
  {
   "cell_type": "code",
   "execution_count": 14,
   "metadata": {},
   "outputs": [
    {
     "data": {
      "image/png": "[encoded data removed]",
      "text/plain": [
       "<Figure size 360x360 with 1 Axes>"
      ]
     },
     "metadata": {
      "needs_background": "light"
     },
     "output_type": "display_data"
    }
   ],
   "source": [
    "for sk_ in range(len(skill)):\n",
    "    if skill[sk_] in ('ml', 'машинное обучение'):\n",
    "        skill[sk_]='machine learning'\n",
    "    elif skill[sk_] in ('математическая статистика', 'статистика', 'регрессионный анализ'):\n",
    "        skill[sk_]='статистический анализ'\n",
    "    elif skill[sk_]=='работа с базами данных':\n",
    "        skill[sk_]='базы данных'\n",
    "    elif skill[sk_]=='работа с большим объемом информации':\n",
    "        skill[sk_]='big data'\n",
    "skill_df=pd.DataFrame(skill,columns=['skill'])\n",
    "plt.figure(figsize=(5,5))\n",
    "sns.countplot(y='skill',data=skill_df,order = skill_df['skill'].value_counts().iloc[:10].index).set_title('Top 10 skills by number of references in vacancies ');"
   ]
  },
  {
   "cell_type": "code",
   "execution_count": 21,
   "metadata": {},
   "outputs": [
    {
     "data": {
      "image/png": "[encoded data removed]",
      "text/plain": [
       "<Figure size 432x432 with 1 Axes>"
      ]
     },
     "metadata": {
      "needs_background": "light"
     },
     "output_type": "display_data"
    }
   ],
   "source": [
    "data_for_sal=all_data[(all_data.loc[:,'salary']!=0)]\n",
    "data_for_sal.loc[:,'salary']=data_for_sal.loc[:,'salary'].astype(float)\n",
    "plt.figure(figsize=(6,6))\n",
    "sns.boxenplot(y='salary', x='experience',data=data_for_sal).set_title('Distribution of salaries by experience');"
   ]
  },
  {
   "cell_type": "code",
   "execution_count": 25,
   "metadata": {},
   "outputs": [
    {
     "data": {
      "image/png": "[encoded data removed]",
      "text/plain": [
       "<Figure size 360x360 with 1 Axes>"
      ]
     },
     "metadata": {
      "needs_background": "light"
     },
     "output_type": "display_data"
    }
   ],
   "source": [
    "exp_sch=pd.crosstab(index=all_data['experience'], columns=all_data['schedule'])\n",
    "exp_plot=exp_sch.plot(kind=\"bar\", \n",
    "                 figsize=(5,5),\n",
    "                 stacked=True,title='Distribution of vacancies by experience')\n",
    "exp_plot.set_ylabel(\"number of vacancies\");"
   ]
  },
  {
   "cell_type": "code",
   "execution_count": 17,
   "metadata": {},
   "outputs": [
    {
     "data": {
      "text/html": [
       "<div>\n",
       "<style scoped>\n",
       "    .dataframe tbody tr th:only-of-type {\n",
       "        vertical-align: middle;\n",
       "    }\n",
       "\n",
       "    .dataframe tbody tr th {\n",
       "        vertical-align: top;\n",
       "    }\n",
       "\n",
       "    .dataframe thead th {\n",
       "        text-align: right;\n",
       "    }\n",
       "</style>\n",
       "<table border=\"1\" class=\"dataframe\">\n",
       "  <thead>\n",
       "    <tr style=\"text-align: right;\">\n",
       "      <th></th>\n",
       "      <th>percentage from all vacancies</th>\n",
       "      <th>number of vacancies</th>\n",
       "    </tr>\n",
       "    <tr>\n",
       "      <th>schedule</th>\n",
       "      <th></th>\n",
       "      <th></th>\n",
       "    </tr>\n",
       "  </thead>\n",
       "  <tbody>\n",
       "    <tr>\n",
       "      <th>Гибкий график</th>\n",
       "      <td>0.092040</td>\n",
       "      <td>37.0</td>\n",
       "    </tr>\n",
       "    <tr>\n",
       "      <th>Полный день</th>\n",
       "      <td>0.880597</td>\n",
       "      <td>354.0</td>\n",
       "    </tr>\n",
       "    <tr>\n",
       "      <th>Удаленная работа</th>\n",
       "      <td>0.027363</td>\n",
       "      <td>11.0</td>\n",
       "    </tr>\n",
       "  </tbody>\n",
       "</table>\n",
       "</div>"
      ],
      "text/plain": [
       "                  percentage from all vacancies  number of vacancies\n",
       "schedule                                                            \n",
       "Гибкий график                          0.092040                 37.0\n",
       "Полный день                            0.880597                354.0\n",
       "Удаленная работа                       0.027363                 11.0"
      ]
     },
     "execution_count": 17,
     "metadata": {},
     "output_type": "execute_result"
    }
   ],
   "source": [
    "vac_sum=all_data.shape[0]\n",
    "sched_stats=pd.DataFrame([all_data.groupby('schedule').count().loc[:,'vacancy']/vac_sum,all_data.groupby('schedule').count().loc[:,'vacancy']]).transpose()\n",
    "sched_stats.columns=['percentage from all vacancies','number of vacancies']\n",
    "sched_stats"
   ]
  },
  {
   "cell_type": "code",
   "execution_count": 18,
   "metadata": {},
   "outputs": [
    {
     "data": {
      "image/png": "[encoded data removed]",
      "text/plain": [
       "<Figure size 432x288 with 1 Axes>"
      ]
     },
     "metadata": {
      "needs_background": "light"
     },
     "output_type": "display_data"
    }
   ],
   "source": [
    "sns.countplot(y='company',data=all_data[['company']],order = all_data['company'].value_counts().iloc[:10].index).set_title('Top 10 most frequent employers');"
   ]
  },
  {
   "cell_type": "code",
   "execution_count": 19,
   "metadata": {},
   "outputs": [
    {
     "data": {
      "image/png": "[encoded data removed]",
      "text/plain": [
       "<Figure size 432x288 with 1 Axes>"
      ]
     },
     "metadata": {
      "needs_background": "light"
     },
     "output_type": "display_data"
    }
   ],
   "source": [
    "sns.countplot(y='prof_area',data=all_data[['prof_area']],order = all_data['prof_area'].value_counts().iloc[:5].index).set_title('Top 5 professional areas by number of vacancies ');"
   ]
  },
  {
   "cell_type": "code",
   "execution_count": null,
   "metadata": {},
   "outputs": [],
   "source": []
  }
 ],
 "metadata": {
  "kernelspec": {
   "display_name": "Python 3",
   "language": "python",
   "name": "python3"
  },
  "language_info": {
   "codemirror_mode": {
    "name": "ipython",
    "version": 3
   },
   "file_extension": ".py",
   "mimetype": "text/x-python",
   "name": "python",
   "nbconvert_exporter": "python",
   "pygments_lexer": "ipython3",
   "version": "3.6.8"
  }
 },
 "nbformat": 4,
 "nbformat_minor": 4
}
